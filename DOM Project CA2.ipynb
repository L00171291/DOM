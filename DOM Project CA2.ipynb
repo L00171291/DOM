{
 "cells": [
  {
   "cell_type": "code",
   "execution_count": 1,
   "id": "b8f9f3a5",
   "metadata": {},
   "outputs": [],
   "source": [
    "import pyspark"
   ]
  },
  {
   "cell_type": "code",
   "execution_count": null,
   "id": "d627f6db",
   "metadata": {},
   "outputs": [],
   "source": [
    "import sys\n",
    "import os\n",
    "\n",
    "sys.path.insert(0, '/Users/amalshyam/anaconda3/bin/spark-shell')\n",
    "sys.path.insert(0, '/Users/amalshyam/anaconda3/bin/spark-shell/python/lib/py4j-0.10.7-src.zip')\n",
    "\n",
    "os.environ['SPARK_HOME'] = '/usr/hdp/current/spark-client/'\n",
    "os.environ['SPARK_CONF_DIR'] = '/etc/spark/conf'\n",
    "\n",
    "import pyspark\n",
    "conf = pyspark.SparkConf()\n",
    "conf.setMaster(\"yarn\")\n",
    "conf.set(\"spark.driver.memory\",\"2g\")\n",
    "conf.set(\"spark.executor.instances\",\"5\")\n",
    "conf.set(\"spark.executor.memory\",\"15g\")\n",
    "conf.set(\"spark.executor.cores\",\"8\")\n",
    "\n",
    "sc = pyspark.SparkContext(conf=conf)"
   ]
  },
  {
   "cell_type": "code",
   "execution_count": null,
   "id": "2c699f63",
   "metadata": {},
   "outputs": [],
   "source": [
    "sc"
   ]
  },
  {
   "cell_type": "code",
   "execution_count": null,
   "id": "58513462",
   "metadata": {},
   "outputs": [],
   "source": [
    "crimes = sc.textFile(\"Crimes_-_2001_to_present2.txt\")"
   ]
  },
  {
   "cell_type": "code",
   "execution_count": null,
   "id": "2ab9647a",
   "metadata": {},
   "outputs": [],
   "source": [
    "crimesHeader = crimes.first()\n",
    "print(crimesHeader)"
   ]
  },
  {
   "cell_type": "code",
   "execution_count": null,
   "id": "676d451c",
   "metadata": {},
   "outputs": [],
   "source": [
    "crimesOnly = crimes.filter(lambda x: x != crimesHeader)\n",
    "crimesOnly.take(3)"
   ]
  },
  {
   "cell_type": "code",
   "execution_count": null,
   "id": "f199fa74",
   "metadata": {},
   "outputs": [],
   "source": [
    "data = crimes.textFile(\"Crimes_-_2001_to_present2.txt\")\n",
    "header = data.first()  # extract header\n",
    "print(header)\n",
    "\n",
    "dataWithoutHeader = data.filter(lambda line: line != header)"
   ]
  },
  {
   "cell_type": "code",
   "execution_count": null,
   "id": "c946fcea",
   "metadata": {},
   "outputs": [],
   "source": [
    "mappedData = dataWithoutHeader.map(lambda line: (\n",
    "    line.split(\",\")[0], line.split(\",\")[1], line.split(\",\")[2], line.split(\",\")[3],\n",
    "    line.split(\",\")[4], line.split(\",\")[5], line.split(\",\")[6], line.split(\",\")[7],\n",
    "    line.split(\",\")[8], line.split(\",\")[9], line.split(\",\")[10], line.split(\",\")[11],\n",
    "    line.split(\",\")[12], line.split(\",\")[13], line.split(\",\")[14], line.split(\",\")[17],\n",
    "    line.split(\",\")[18], line.split(\",\")[21]\n",
    "))\n",
    "\n",
    "result = mappedData.take(3)"
   ]
  },
  {
   "cell_type": "code",
   "execution_count": null,
   "id": "733b13fd",
   "metadata": {},
   "outputs": [],
   "source": [
    "districts = mappedData.map(lambda x: x[11])"
   ]
  },
  {
   "cell_type": "code",
   "execution_count": null,
   "id": "ce3b756e",
   "metadata": {},
   "outputs": [],
   "source": [
    "def checkDistrict(x):\n",
    "    if len(x) == 3:\n",
    "        return x\n",
    "    else:\n",
    "        return \"000\"\n",
    "\n",
    "checkedDistricts = districts.map(checkDistrict)\n",
    "result = checkedDistricts.take(5)"
   ]
  },
  {
   "cell_type": "code",
   "execution_count": null,
   "id": "c610cf3b",
   "metadata": {},
   "outputs": [],
   "source": [
    "districtsCount = checkedDistricts.countByValue()"
   ]
  },
  {
   "cell_type": "code",
   "execution_count": null,
   "id": "44ec298e",
   "metadata": {},
   "outputs": [],
   "source": [
    "sortedDistricts = sorted(districtsCount.items())\n"
   ]
  },
  {
   "cell_type": "code",
   "execution_count": null,
   "id": "0ec410d1",
   "metadata": {},
   "outputs": [],
   "source": [
    "def extractPrimaryType(x):\n",
    "    return x[5]\n",
    "\n",
    "primaryTypes = crimesMapped.map(extractPrimaryType)\n",
    "result = primaryTypes.take(5)\n"
   ]
  },
  {
   "cell_type": "code",
   "execution_count": null,
   "id": "ed4d3fab",
   "metadata": {},
   "outputs": [],
   "source": [
    "zippedData = districts.zip(primaryTypes)\n",
    "result = zippedData.take(5)"
   ]
  },
  {
   "cell_type": "code",
   "execution_count": null,
   "id": "5a6d9951",
   "metadata": {},
   "outputs": [],
   "source": [
    "districtWithTypeCount = distWithType.countByValue()\n",
    "sortedDistrictWithType = sorted(districtWithTypeCount.items())"
   ]
  },
  {
   "cell_type": "code",
   "execution_count": null,
   "id": "061ce271",
   "metadata": {},
   "outputs": [],
   "source": [
    "def extractLocationDesc(x):\n",
    "    return x[7]\n",
    "\n",
    "locationDescs = crimesMapped.map(extractLocationDesc)\n",
    "result = locationDescs.take(5)"
   ]
  },
  {
   "cell_type": "code",
   "execution_count": null,
   "id": "c90c0e0a",
   "metadata": {},
   "outputs": [],
   "source": [
    "locationDescCounts = locationDesc.countByValue()\n",
    "sortedLocationDescCounts = sorted(locationDescCounts.items())"
   ]
  },
  {
   "cell_type": "code",
   "execution_count": null,
   "id": "cddf5859",
   "metadata": {},
   "outputs": [],
   "source": [
    "sortedLocationDesc = sorted(locationDescCounts.items(), key=lambda k_v: k_v[::-1], reverse=True)"
   ]
  },
  {
   "cell_type": "code",
   "execution_count": null,
   "id": "b94f7d48",
   "metadata": {},
   "outputs": [],
   "source": [
    "def extractArrest(x):\n",
    "    return x[8]\n",
    "\n",
    "arrests = crimesMapped.map(extractArrest)\n",
    "result = arrests.take(5)"
   ]
  },
  {
   "cell_type": "code",
   "execution_count": null,
   "id": "982c12b9",
   "metadata": {},
   "outputs": [],
   "source": [
    "def checkArrest(x):\n",
    "    if x == \"true\" or x == \"false\":\n",
    "        return x\n",
    "    else:\n",
    "        return \"\"\n",
    "\n",
    "filteredArrests = arrests.map(checkArrest)"
   ]
  },
  {
   "cell_type": "code",
   "execution_count": null,
   "id": "770993eb",
   "metadata": {},
   "outputs": [],
   "source": [
    "result = filteredArrests.take(5)"
   ]
  },
  {
   "cell_type": "code",
   "execution_count": null,
   "id": "5d03704a",
   "metadata": {},
   "outputs": [],
   "source": [
    "arrestCount = arrest.countByValue()"
   ]
  },
  {
   "cell_type": "code",
   "execution_count": null,
   "id": "08a4cf42",
   "metadata": {},
   "outputs": [],
   "source": [
    "sorted_results = sorted(arrests_count.items(), reverse=True)"
   ]
  },
  {
   "cell_type": "code",
   "execution_count": null,
   "id": "41f531eb",
   "metadata": {},
   "outputs": [],
   "source": [
    "dates = crimes_mapped.map(lambda x: x[2])\n",
    "result = dates.take(5)"
   ]
  },
  {
   "cell_type": "code",
   "execution_count": null,
   "id": "65bf52e4",
   "metadata": {},
   "outputs": [],
   "source": [
    "def get_time(x):\n",
    "    time = \"\"\n",
    "    for elem in x[11:22]:\n",
    "        time += elem\n",
    "    return time\n",
    "\n",
    "time_values = crimes_mapped.map(get_time)"
   ]
  },
  {
   "cell_type": "code",
   "execution_count": null,
   "id": "d31c0df4",
   "metadata": {},
   "outputs": [],
   "source": [
    "time_only = date.map(lambda x: get_time(x))\n",
    "result = time_only.take(5)"
   ]
  },
  {
   "cell_type": "code",
   "execution_count": null,
   "id": "7bdb25a6",
   "metadata": {},
   "outputs": [],
   "source": [
    "def replace_char_index(text, idx=0, replacement='0'):\n",
    "    return f\"{text[:idx]}{replacement}{text[idx+1:]}\""
   ]
  },
  {
   "cell_type": "code",
   "execution_count": null,
   "id": "4fb3e5a7",
   "metadata": {},
   "outputs": [],
   "source": [
    "def replace_minutes(time):\n",
    "    time = replace_char_index(time, 3)\n",
    "    time = replace_char_index(time, 4)\n",
    "    return time"
   ]
  },
  {
   "cell_type": "code",
   "execution_count": null,
   "id": "4253c96f",
   "metadata": {},
   "outputs": [],
   "source": [
    "time_clean = time_only.map(lambda x: replace_minutes(x))\n",
    "time_clean.take(5)"
   ]
  },
  {
   "cell_type": "code",
   "execution_count": null,
   "id": "4e5b0d63",
   "metadata": {},
   "outputs": [],
   "source": [
    "def replace_secs(x):\n",
    "    x = replace_str_index(x, 6)\n",
    "    y = replace_str_index(x, 7)\n",
    "    return y\n",
    "\n",
    "time_clean = time_only.map(lambda x: replace_secs(x))\n",
    "time_clean.take(5)"
   ]
  },
  {
   "cell_type": "code",
   "execution_count": null,
   "id": "21a330e6",
   "metadata": {},
   "outputs": [],
   "source": [
    "time_count = time_clean.countByValue()"
   ]
  },
  {
   "cell_type": "code",
   "execution_count": null,
   "id": "a22628d3",
   "metadata": {},
   "outputs": [],
   "source": [
    "sorted_time_count = sorted(time_count.items(), key=lambda k_v: k_v[::-1], reverse=True)"
   ]
  },
  {
   "cell_type": "code",
   "execution_count": null,
   "id": "d46e5bdd",
   "metadata": {},
   "outputs": [],
   "source": [
    "year_values = year.map(lambda x: x[15])\n",
    "year_values.take(5)"
   ]
  },
  {
   "cell_type": "code",
   "execution_count": null,
   "id": "774fd4db",
   "metadata": {},
   "outputs": [],
   "source": [
    "def yearCheck(x):\n",
    "    if x[:2] == '20':\n",
    "        return x\n",
    "    else:\n",
    "        return ''\n",
    "\n",
    "year_values = year_values.map(yearCheck)"
   ]
  },
  {
   "cell_type": "code",
   "execution_count": null,
   "id": "ea2e576e",
   "metadata": {},
   "outputs": [],
   "source": [
    "year_values = year_values.map(lambda x: yearCheck(x))"
   ]
  },
  {
   "cell_type": "code",
   "execution_count": null,
   "id": "7e1fc5e9",
   "metadata": {},
   "outputs": [],
   "source": [
    "year.take(5)"
   ]
  },
  {
   "cell_type": "code",
   "execution_count": null,
   "id": "56c8ebcf",
   "metadata": {},
   "outputs": [],
   "source": [
    "yearCount = year.countByValue()"
   ]
  },
  {
   "cell_type": "code",
   "execution_count": null,
   "id": "c9c8da35",
   "metadata": {},
   "outputs": [],
   "source": [
    "sorted(yearCount.items(), key=lambda item: item[1], reverse=True)"
   ]
  },
  {
   "cell_type": "code",
   "execution_count": null,
   "id": "331cd5ea",
   "metadata": {},
   "outputs": [],
   "source": [
    "block = crimes_mapped.map(lambda x: x[3])\n",
    "block.take(5)"
   ]
  },
  {
   "cell_type": "code",
   "execution_count": null,
   "id": "c5478529",
   "metadata": {},
   "outputs": [],
   "source": [
    "def street_only(x):\n",
    "    street = \"\"\n",
    "    for element in x[6:]:\n",
    "        street += element\n",
    "    return street\n",
    "\n",
    "street= crimes_mapped.map(lambda x: street_only(x))\n",
    "street.take(5)"
   ]
  },
  {
   "cell_type": "code",
   "execution_count": null,
   "id": "3029c1b4",
   "metadata": {},
   "outputs": [],
   "source": [
    "street = block.map(lambda x: street_only(x))\n",
    "street.take(5)"
   ]
  },
  {
   "cell_type": "code",
   "execution_count": null,
   "id": "24979b26",
   "metadata": {},
   "outputs": [],
   "source": [
    "sorted(street.countByValue().items(), key=lambda item: item[::-1], reverse=True)"
   ]
  },
  {
   "cell_type": "code",
   "execution_count": null,
   "id": "6a07ba12",
   "metadata": {},
   "outputs": [],
   "source": [
    "distAndStreet = districts.zip(street)\n",
    "distAndStreet.take(5)"
   ]
  },
  {
   "cell_type": "code",
   "execution_count": null,
   "id": "a36e3377",
   "metadata": {},
   "outputs": [],
   "source": [
    "filteredCount = distAndStreet.filter(lambda x: \"S STATE ST\" in x).countByValue()"
   ]
  },
  {
   "cell_type": "code",
   "execution_count": null,
   "id": "6aa516ac",
   "metadata": {},
   "outputs": [],
   "source": [
    "def getMonth(x):\n",
    "    month = \"\"\n",
    "    for element in x[:2]:\n",
    "        month += element\n",
    "    return month"
   ]
  },
  {
   "cell_type": "code",
   "execution_count": null,
   "id": "a08474b7",
   "metadata": {},
   "outputs": [],
   "source": [
    "month = date.map(lambda x: getMonth(x))\n",
    "month.take(5)"
   ]
  },
  {
   "cell_type": "code",
   "execution_count": null,
   "id": "1fd390b0",
   "metadata": {},
   "outputs": [],
   "source": [
    "monthAndType = month.zip(primaryType)\n",
    "monthAndType.take(5)"
   ]
  },
  {
   "cell_type": "code",
   "execution_count": null,
   "id": "ca55e5a0",
   "metadata": {},
   "outputs": [],
   "source": [
    "def typeSort(x):\n",
    "    if 'THEFT' in x or 'ROBBERY' in x or 'BURGLARY' in x:\n",
    "        return x\n",
    "    else:\n",
    "        return ''\n",
    "\n",
    "filteredTypes = monthAndType.filter(lambda x: typeSort(x[1]))\n",
    "filteredTypes.take(5)"
   ]
  },
  {
   "cell_type": "code",
   "execution_count": null,
   "id": "5857a129",
   "metadata": {},
   "outputs": [],
   "source": [
    "stealingTypesOnly = monthAndType.map(lambda x: typeSort(x))\n",
    "stealingTypesOnly.take(5)"
   ]
  },
  {
   "cell_type": "code",
   "execution_count": null,
   "id": "98b9d040",
   "metadata": {},
   "outputs": [],
   "source": [
    "springOnly = month.filter(lambda x: ('03' in x) or ('04' in x) or ('05' in x))\n",
    "springOnly.take(5)"
   ]
  },
  {
   "cell_type": "code",
   "execution_count": null,
   "id": "f0f625df",
   "metadata": {},
   "outputs": [],
   "source": [
    "springStealing = stealingTypesOnly.map(lambda x: springOnly(x))\n",
    "springStealing.take(5)"
   ]
  },
  {
   "cell_type": "code",
   "execution_count": null,
   "id": "f05da763",
   "metadata": {},
   "outputs": [],
   "source": [
    "springStealingClean = springStealing.filter(lambda x: x != '')\n",
    "springStealingClean.take(5)"
   ]
  },
  {
   "cell_type": "code",
   "execution_count": null,
   "id": "4544eb11",
   "metadata": {},
   "outputs": [],
   "source": [
    "sorted(springStealingClean.countByValue().items(), key=lambda k_v: k_v[::-1], reverse = True)"
   ]
  },
  {
   "cell_type": "code",
   "execution_count": null,
   "id": "b4e26419",
   "metadata": {},
   "outputs": [],
   "source": [
    "springStealingClean.count()"
   ]
  },
  {
   "cell_type": "code",
   "execution_count": null,
   "id": "4f65398f",
   "metadata": {},
   "outputs": [],
   "source": [
    "def summerOnly(x):\n",
    "    if ('06' in x) or ('07' in x) or ('08' in x):\n",
    "        return x\n",
    "    else:\n",
    "        return ''\n",
    "\n",
    "summerStealing = stealingTypesOnly.map(lambda x: summerOnly(x))\n",
    "summerStealingClean = summerStealing.filter(lambda x: x != '')\n",
    "summerStealingClean.take(5)"
   ]
  },
  {
   "cell_type": "code",
   "execution_count": null,
   "id": "f3b6f47b",
   "metadata": {},
   "outputs": [],
   "source": [
    "def summerOnly(x):\n",
    "    if '06' in x or '07' in x or '08' in x:\n",
    "        return x\n",
    "    else:\n",
    "        return ''\n",
    "\n",
    "summerStealing = stealingTypesOnly.map(lambda x: summerOnly(x))\n",
    "summerStealing.take(50)"
   ]
  },
  {
   "cell_type": "code",
   "execution_count": null,
   "id": "ec0a5631",
   "metadata": {},
   "outputs": [],
   "source": [
    "summerStealingClean = summerStealing.filter(lambda x: summerOnly(x))\n",
    "summerStealingClean.take(50)"
   ]
  },
  {
   "cell_type": "code",
   "execution_count": null,
   "id": "da80cfd3",
   "metadata": {},
   "outputs": [],
   "source": [
    "sorted(summerStealingClean.countByValue().items(), key=lambda item: item[1], reverse=True)"
   ]
  },
  {
   "cell_type": "code",
   "execution_count": null,
   "id": "daace32d",
   "metadata": {},
   "outputs": [],
   "source": [
    "summerStealingClean.count()"
   ]
  },
  {
   "cell_type": "code",
   "execution_count": null,
   "id": "b220e0a8",
   "metadata": {},
   "outputs": [],
   "source": [
    "def fallOnly(x):\n",
    "    if ('09' in x) or ('10' in x) or ('11' in x):\n",
    "        return x\n",
    "    else:\n",
    "        return ''\n",
    "\n",
    "fallStealing = stealingTypesOnly.map(lambda x: fallOnly(x))\n",
    "fallStealing.take(50)"
   ]
  },
  {
   "cell_type": "code",
   "execution_count": null,
   "id": "97674641",
   "metadata": {},
   "outputs": [],
   "source": [
    "fallStealing = stealingTypesOnly.map(lambda x: fallOnly(x))\n",
    "fallStealing.take(5)"
   ]
  },
  {
   "cell_type": "code",
   "execution_count": null,
   "id": "3e0b5745",
   "metadata": {},
   "outputs": [],
   "source": [
    "fallStealingClean = fallStealing.filter(lambda x: fallOnly(x))\n",
    "fallStealingClean.take(5)"
   ]
  },
  {
   "cell_type": "code",
   "execution_count": null,
   "id": "8864d233",
   "metadata": {},
   "outputs": [],
   "source": [
    "sorted(fallStealingClean.countByValue().items(), key=lambda item: item[1], reverse=True)"
   ]
  },
  {
   "cell_type": "code",
   "execution_count": null,
   "id": "809f87e3",
   "metadata": {},
   "outputs": [],
   "source": [
    "fallStealingClean.count()"
   ]
  },
  {
   "cell_type": "code",
   "execution_count": null,
   "id": "7094b532",
   "metadata": {},
   "outputs": [],
   "source": [
    "def winterOnly(x):\n",
    "    if '12' in x or '01' in x or '02' in x:\n",
    "        return x\n",
    "    else:\n",
    "        return ''\n",
    "\n",
    "winterStealing = stealingTypesOnly.map(lambda x: winterOnly(x))\n",
    "winterStealing.take(5)"
   ]
  },
  {
   "cell_type": "code",
   "execution_count": null,
   "id": "3d1757e6",
   "metadata": {},
   "outputs": [],
   "source": [
    "def winterOnly(x):\n",
    "    if '12' in x or '01' in x or '02' in x:\n",
    "        return x\n",
    "    else:\n",
    "        return ''\n",
    "\n",
    "winterStealing = stealingTypesOnly.map(lambda x: winterOnly(x))\n",
    "winterStealing.take(5)"
   ]
  },
  {
   "cell_type": "code",
   "execution_count": null,
   "id": "267fe575",
   "metadata": {},
   "outputs": [],
   "source": [
    "winterStealingClean = winterStealing.filter(lambda x: winterOnly(x))\n",
    "winterStealingClean.take(5)"
   ]
  },
  {
   "cell_type": "code",
   "execution_count": null,
   "id": "5602f9cd",
   "metadata": {},
   "outputs": [],
   "source": [
    "winterStealingCounts = winterStealingClean.countByValue()\n",
    "sortedWinterStealingCounts = sorted(winterStealingCounts.items(), key=lambda k_v: k_v[::-1], reverse=True)"
   ]
  },
  {
   "cell_type": "code",
   "execution_count": null,
   "id": "8a4e5228",
   "metadata": {},
   "outputs": [],
   "source": [
    "winterStealingClean.count()"
   ]
  },
  {
   "cell_type": "code",
   "execution_count": null,
   "id": "42decfc5",
   "metadata": {},
   "outputs": [],
   "source": [
    "springStealingClean.count()"
   ]
  },
  {
   "cell_type": "code",
   "execution_count": null,
   "id": "b2a2ff36",
   "metadata": {},
   "outputs": [],
   "source": [
    "summerStealingClean.count()"
   ]
  },
  {
   "cell_type": "code",
   "execution_count": null,
   "id": "7d89773f",
   "metadata": {},
   "outputs": [],
   "source": [
    "fallStealingClean.count()"
   ]
  },
  {
   "cell_type": "code",
   "execution_count": null,
   "id": "85d74bb1",
   "metadata": {},
   "outputs": [],
   "source": [
    "winterStealingClean.count()"
   ]
  },
  {
   "cell_type": "code",
   "execution_count": null,
   "id": "946200f5",
   "metadata": {},
   "outputs": [],
   "source": [
    "sc.stop()"
   ]
  },
  {
   "cell_type": "code",
   "execution_count": null,
   "id": "c22030a6",
   "metadata": {},
   "outputs": [],
   "source": [
    "end_time = time.time()"
   ]
  },
  {
   "cell_type": "code",
   "execution_count": null,
   "id": "7caf0fd4",
   "metadata": {},
   "outputs": [],
   "source": [
    "print(\"Processing time:\", end_time - start_time, \"seconds\")"
   ]
  }
 ],
 "metadata": {
  "kernelspec": {
   "display_name": "Python 3 (ipykernel)",
   "language": "python",
   "name": "python3"
  },
  "language_info": {
   "codemirror_mode": {
    "name": "ipython",
    "version": 3
   },
   "file_extension": ".py",
   "mimetype": "text/x-python",
   "name": "python",
   "nbconvert_exporter": "python",
   "pygments_lexer": "ipython3",
   "version": "3.10.9"
  }
 },
 "nbformat": 4,
 "nbformat_minor": 5
}
